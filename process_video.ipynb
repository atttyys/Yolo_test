{
 "cells": [
  {
   "cell_type": "code",
   "execution_count": 1,
   "metadata": {},
   "outputs": [],
   "source": [
    "import cv2\n",
    "import numpy as np"
   ]
  },
  {
   "cell_type": "code",
   "execution_count": 2,
   "metadata": {},
   "outputs": [
    {
     "name": "stdout",
     "output_type": "stream",
     "text": [
      "Open VDO succeses!\n"
     ]
    }
   ],
   "source": [
    "#setting\n",
    "colorGreen = (0,255,0)\n",
    "scale = 0.75\n",
    "img_size = (320,320)\n",
    "confThreshold = 0.5 # ค่า Threshlod\n",
    "nmsThreshold = 0.4 # ค่า  NMS Threshold\n",
    "\n",
    "#setting video\n",
    "# cap = cv2.VideoCapture() #web cam ,vdo capture\n",
    "# cap.set(3,640) # width\n",
    "# cap.set(4,480) #height\n",
    "\n",
    "cap = cv2.VideoCapture('vdol.mp4') # หากใช้กล่อง web cam ให้ comment บันทัดนี้\n",
    "\n",
    "if(not(cap.isOpened())):\n",
    "    print(\"Could not open the VDO file\")\n",
    "else:\n",
    "    print(\"Open VDO succeses!\")"
   ]
  },
  {
   "cell_type": "code",
   "execution_count": 3,
   "metadata": {},
   "outputs": [
    {
     "name": "stdout",
     "output_type": "stream",
     "text": [
      "dataclass 80 class\n"
     ]
    }
   ],
   "source": [
    "classesFile = 'coco.names'\n",
    "classNames = []\n",
    "with open(\"coco.names\",\"r\") as f:\n",
    "    classNames = [line.strip() for line in f.readlines()]\n",
    "print(\"dataclass\",len(classNames),\"class\")"
   ]
  },
  {
   "cell_type": "code",
   "execution_count": 4,
   "metadata": {},
   "outputs": [],
   "source": [
    "#config\n",
    "modelConfiguration = 'yolov3.cfg'\n",
    "modelWeights = 'yolov3.weights'\n",
    "\n",
    "net = cv2.dnn.readNetFromDarknet(modelConfiguration,modelWeights)\n",
    "layerNames = net.getLayerNames()\n",
    "outputNames = [layerNames[i-1] for i in net.getUnconnectedOutLayers()]"
   ]
  },
  {
   "cell_type": "code",
   "execution_count": null,
   "metadata": {},
   "outputs": [],
   "source": [
    "#bbox\n",
    "def locateObjects(outputs,img):\n",
    "    hT, wT, cT = img.shape\n",
    "    bbox = []\n",
    "    classIds = []\n",
    "    confs = []\n",
    "\n",
    "    for output in outputs:\n",
    "        for det in output:\n",
    "            scores = det[5:]\n",
    "            classId = np.argmax(scores)\n",
    "            confidence = scores[classId]\n",
    "            if confidence > confThreshold:\n",
    "                w,h = int(det[2]* wT),int(det[3]*hT)\n",
    "                x,y = int((det[0]*wT)-w/2),int((det[1]*hT)-h/2)\n",
    "                bbox.append([x,y,w,h])\n",
    "                classIds.append(classId)\n",
    "                confs.append(float(confidence))\n",
    "        indices = cv2.dnn.NMSBoxes(bbox,confs,confThreshold,nmsThreshold)\n",
    "\n",
    "        for i in indices:\n",
    "            i = i-1\n",
    "            box = bbox[i]\n",
    "            x,y,w,h = box[0],box[1],box[2],box[3]\n",
    "            cv2.rectangle(img,(x,y),(x+w,y+h),colorGreen,2)\n",
    "            label = str(classNames[classIds[i]])\n",
    "            label = '{} {:.1f}%'.format(label,confs[i]*100)\n",
    "            cv2.putText(img,label,(x,y-8),cv2.FONT_HERSHEY_SIMPLEX,0.6,colorGreen,2)"
   ]
  },
  {
   "cell_type": "code",
   "execution_count": null,
   "metadata": {},
   "outputs": [],
   "source": [
    "# Main Loop\n",
    "while (cap.isOpened()):\n",
    "    success,img = cap.read()\n",
    "    img = cv2.resize(img,None,fx=scale,fy=scale,interpolation=cv2.INTER_AREA) # หากใช้กล่อง web cam ให้ comment บันทัดนี้\n",
    "    blob = cv2.dnn.blobFromImage(img,0.00392,img_size,(0,0,0),crop=False)\n",
    "    # 0.00392 = 1/255\n",
    "    net.setInput(blob) #Detect\n",
    "    outputs = net.forward(outputNames)\n",
    "    locateObjects(outputs,img) #bbox\n",
    "    \n",
    "    cv2.imshow('Mywindow',img)\n",
    "    if cv2.waitKey(1) == 27: # ESC to exit\n",
    "        break\n",
    "cap.release() # เครียร์ object\n",
    "cv2.destroyAllWindows()"
   ]
  }
 ],
 "metadata": {
  "kernelspec": {
   "display_name": "chontis",
   "language": "python",
   "name": "python3"
  },
  "language_info": {
   "codemirror_mode": {
    "name": "ipython",
    "version": 3
   },
   "file_extension": ".py",
   "mimetype": "text/x-python",
   "name": "python",
   "nbconvert_exporter": "python",
   "pygments_lexer": "ipython3",
   "version": "3.9.15 (main, Nov 24 2022, 14:39:17) [MSC v.1916 64 bit (AMD64)]"
  },
  "orig_nbformat": 4,
  "vscode": {
   "interpreter": {
    "hash": "aa3809faf10225bf4a609f507bee05cd6cd617cc680a60e25bd6ead279edd8b4"
   }
  }
 },
 "nbformat": 4,
 "nbformat_minor": 2
}

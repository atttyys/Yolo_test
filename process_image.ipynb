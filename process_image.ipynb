{
 "cells": [
  {
   "cell_type": "code",
   "execution_count": 1,
   "metadata": {},
   "outputs": [
    {
     "data": {
      "text/plain": [
       "'4.7.0'"
      ]
     },
     "execution_count": 1,
     "metadata": {},
     "output_type": "execute_result"
    }
   ],
   "source": [
    "import numpy as np\n",
    "import cv2\n",
    "from cv2 import dnn\n",
    "cv2.__version__"
   ]
  },
  {
   "cell_type": "code",
   "execution_count": 2,
   "metadata": {},
   "outputs": [
    {
     "data": {
      "text/plain": [
       "80"
      ]
     },
     "execution_count": 2,
     "metadata": {},
     "output_type": "execute_result"
    }
   ],
   "source": [
    "#load yolo\n",
    "net = cv2.dnn.readNet(\"yolov3.weights\",\"yolov3.cfg\") #read file\n",
    "\n",
    "#crate list class read form coco.names file\n",
    "classes = []\n",
    "\n",
    "with open(\"coco.names\",\"r\") as f:\n",
    "    classes = [line.strip() for line in f.readlines()] # data list\n",
    "\n",
    "layer_names = net.getLayerNames()\n",
    "len(classes)"
   ]
  },
  {
   "cell_type": "code",
   "execution_count": 3,
   "metadata": {},
   "outputs": [
    {
     "data": {
      "text/plain": [
       "['person',\n",
       " 'bicycle',\n",
       " 'car',\n",
       " 'motorbike',\n",
       " 'aeroplane',\n",
       " 'bus',\n",
       " 'train',\n",
       " 'truck',\n",
       " 'boat',\n",
       " 'traffic light',\n",
       " 'fire hydrant',\n",
       " 'stop sign',\n",
       " 'parking meter',\n",
       " 'bench',\n",
       " 'bird',\n",
       " 'cat',\n",
       " 'dog',\n",
       " 'horse',\n",
       " 'sheep',\n",
       " 'cow',\n",
       " 'elephant',\n",
       " 'bear',\n",
       " 'zebra',\n",
       " 'giraffe',\n",
       " 'backpack',\n",
       " 'umbrella',\n",
       " 'handbag',\n",
       " 'tie',\n",
       " 'suitcase',\n",
       " 'frisbee',\n",
       " 'skis',\n",
       " 'snowboard',\n",
       " 'sports ball',\n",
       " 'kite',\n",
       " 'baseball bat',\n",
       " 'baseball glove',\n",
       " 'skateboard',\n",
       " 'surfboard',\n",
       " 'tennis racket',\n",
       " 'bottle',\n",
       " 'wine glass',\n",
       " 'cup',\n",
       " 'fork',\n",
       " 'knife',\n",
       " 'spoon',\n",
       " 'bowl',\n",
       " 'banana',\n",
       " 'apple',\n",
       " 'sandwich',\n",
       " 'orange',\n",
       " 'broccoli',\n",
       " 'carrot',\n",
       " 'hot dog',\n",
       " 'pizza',\n",
       " 'donut',\n",
       " 'cake',\n",
       " 'chair',\n",
       " 'sofa',\n",
       " 'pottedplant',\n",
       " 'bed',\n",
       " 'diningtable',\n",
       " 'toilet',\n",
       " 'tvmonitor',\n",
       " 'laptop',\n",
       " 'mouse',\n",
       " 'remote',\n",
       " 'keyboard',\n",
       " 'cell phone',\n",
       " 'microwave',\n",
       " 'oven',\n",
       " 'toaster',\n",
       " 'sink',\n",
       " 'refrigerator',\n",
       " 'book',\n",
       " 'clock',\n",
       " 'vase',\n",
       " 'scissors',\n",
       " 'teddy bear',\n",
       " 'hair drier',\n",
       " 'toothbrush']"
      ]
     },
     "execution_count": 3,
     "metadata": {},
     "output_type": "execute_result"
    }
   ],
   "source": [
    "classes[:10]\n",
    "classes"
   ]
  },
  {
   "cell_type": "code",
   "execution_count": 4,
   "metadata": {},
   "outputs": [],
   "source": [
    "# สร้างค่าสีแบบสุ่มเพื่อเขียนกรอบสี่เหลี่ยมรอบวัตถุ (bounding box)\n",
    "colors = np.random.uniform(0,255,size=(len(classes),3))"
   ]
  },
  {
   "cell_type": "code",
   "execution_count": 5,
   "metadata": {},
   "outputs": [
    {
     "data": {
      "text/plain": [
       "(600, 883, 3)"
      ]
     },
     "execution_count": 5,
     "metadata": {},
     "output_type": "execute_result"
    }
   ],
   "source": [
    "img = cv2.imread(\"dog.jpg\")\n",
    "img = cv2.resize(img, None, fx=0.8, fy=0.8) # scale image ย่อสเกลภาพ\n",
    "heigth,width,channels =  img.shape\n",
    "img.shape"
   ]
  },
  {
   "cell_type": "code",
   "execution_count": 6,
   "metadata": {},
   "outputs": [],
   "source": [
    "img_size = (320,320)\n",
    "blob = cv2.dnn.blobFromImage(img,1.0/255,img_size,(0,0,0),True,crop=False)\n",
    "net.setInput(blob)"
   ]
  },
  {
   "cell_type": "code",
   "execution_count": 7,
   "metadata": {},
   "outputs": [
    {
     "name": "stdout",
     "output_type": "stream",
     "text": [
      "[200 227 254]\n"
     ]
    }
   ],
   "source": [
    "print(net.getUnconnectedOutLayers())"
   ]
  },
  {
   "cell_type": "code",
   "execution_count": 8,
   "metadata": {},
   "outputs": [],
   "source": [
    "unconnect = net.getUnconnectedOutLayers()"
   ]
  },
  {
   "cell_type": "code",
   "execution_count": 9,
   "metadata": {},
   "outputs": [
    {
     "name": "stdout",
     "output_type": "stream",
     "text": [
      "[[0.04755429 0.05224197 0.36834425 ... 0.         0.         0.        ]\n",
      " [0.05591626 0.04215427 0.32421374 ... 0.         0.         0.        ]\n",
      " [0.06188939 0.04571395 1.0631661  ... 0.         0.         0.        ]\n",
      " ...\n",
      " [0.94738483 0.9351803  0.5285537  ... 0.         0.         0.        ]\n",
      " [0.9493453  0.95500576 0.42928228 ... 0.         0.         0.        ]\n",
      " [0.95809096 0.9554365  1.0670701  ... 0.         0.         0.        ]]\n"
     ]
    }
   ],
   "source": [
    "output_layers = [layer_names[i-1] for i in unconnect]\n",
    "outputs = net.forward(output_layers)\n",
    "print(outputs[0])"
   ]
  },
  {
   "cell_type": "code",
   "execution_count": 10,
   "metadata": {},
   "outputs": [],
   "source": [
    "class_ids = []\n",
    "confidences = []\n",
    "boxes = []\n",
    "for out in outputs:\n",
    "    for detection in out:\n",
    "        scores = detection[5:] #ค่า score ที่ทำนายของวัตถุ\n",
    "        class_id = np.argmax(scores)\n",
    "        confidence = scores[class_id]\n",
    "        if confidence > 0.5 :\n",
    "            center_x = int(detection[0]*width)\n",
    "            center_y = int(detection[1]*heigth)\n",
    "            w = int(detection[2]*width)\n",
    "            h = int(detection[3]*heigth)\n",
    "\n",
    "            x = int(center_x - w / 2)\n",
    "            y = int(center_y - h / 2)\n",
    "\n",
    "            boxes.append([x,y,w,h])\n",
    "            confidences.append(float(confidence))\n",
    "            class_ids.append(class_id)\n",
    "indices = cv2.dnn.NMSBoxes(boxes,confidences,0.5,0.4)"
   ]
  },
  {
   "cell_type": "code",
   "execution_count": 11,
   "metadata": {},
   "outputs": [],
   "source": [
    "font = cv2.FONT_HERSHEY_SIMPLEX\n",
    "text_color = (255,255,255)\n",
    "\n",
    "for i in range(len(boxes)):\n",
    "    if i in indices :\n",
    "        x,y,w,h = boxes[i]\n",
    "        label = str(classes[class_ids[i]])\n",
    "        conf = confidences[i]\n",
    "        label = '{} {:1f}%'.format(label,conf*100)\n",
    "        color = colors[i]\n",
    "        \n",
    "        t_size = cv2.getTextSize(label,font,1,1)[0]\n",
    "        cv2.rectangle(img,(w,y),(x+w , y+h),color,2)\n",
    "        \n",
    "        c2 = x+int(t_size[0]*0.8),y-int(t_size[1]*1.2)\n",
    "        cv2.rectangle(img,(x,y-2),c2,color,-1)\n",
    "        cv2.putText(img,label,(x,y-2),font,0.7,text_color,3)"
   ]
  },
  {
   "cell_type": "code",
   "execution_count": 12,
   "metadata": {},
   "outputs": [],
   "source": [
    "cv2.imshow(\"Mywindow\",img)\n",
    "cv2.waitKey(0)\n",
    "cv2.destroyAllWindows()"
   ]
  }
 ],
 "metadata": {
  "kernelspec": {
   "display_name": "chontis",
   "language": "python",
   "name": "python3"
  },
  "language_info": {
   "codemirror_mode": {
    "name": "ipython",
    "version": 3
   },
   "file_extension": ".py",
   "mimetype": "text/x-python",
   "name": "python",
   "nbconvert_exporter": "python",
   "pygments_lexer": "ipython3",
   "version": "3.9.15 (main, Nov 24 2022, 14:39:17) [MSC v.1916 64 bit (AMD64)]"
  },
  "orig_nbformat": 4,
  "vscode": {
   "interpreter": {
    "hash": "aa3809faf10225bf4a609f507bee05cd6cd617cc680a60e25bd6ead279edd8b4"
   }
  }
 },
 "nbformat": 4,
 "nbformat_minor": 2
}
